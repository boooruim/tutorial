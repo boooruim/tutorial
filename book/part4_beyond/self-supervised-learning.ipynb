{
 "cells": [
  {
   "cell_type": "markdown",
   "metadata": {},
   "source": [
    "# Self-Supervised Learning\n",
    "\n",
    "`janne.spijkervet`\n",
    "\n",
    "## Introduction\n",
    "In self-supervised learning, we obtain a supervisory signal from the data by leveraging its underlying structure. Generally, this can be done on the data itself, or in the space of the data representations.\n",
    "\n",
    "- Give examples of influential papers.\n",
    "    - Outline pretext tasks\n",
    "    - Contrastive Predictive Coding, Contrastive Learning, BYOL/Siamese networks\n",
    "- How is this used in MIR?"
   ]
  },
  {
   "cell_type": "markdown",
   "metadata": {},
   "source": [
    "## Should I use SSL?\n",
    "- Why is SSL beneficial?\n",
    "- In what situations does SSL shine?"
   ]
  },
  {
   "cell_type": "markdown",
   "metadata": {},
   "source": [
    "## CLMR\n",
    "- Explain the intuition\n",
    "- Explain SimCLR\n",
    "- Explain SampleCNN\n",
    "\n",
    "## Dataset\n",
    "- We can initialise MTAT, MSD, or your own set of .mp3 / .wav files."
   ]
  },
  {
   "cell_type": "markdown",
   "metadata": {},
   "source": [
    "\n",
    "### Audio Data Augmentations\n",
    "- Crop\n",
    "- Filter\n",
    "- Reverb\n",
    "- Polarity\n",
    "- Noise\n",
    "- Pitch\n",
    "- Gain\n",
    "- Delay\n"
   ]
  },
  {
   "cell_type": "code",
   "execution_count": 9,
   "metadata": {},
   "outputs": [],
   "source": [
    "import torchaudio\n",
    "from torchaudio_augmentations import (\n",
    "    RandomApply,\n",
    "    ComposeMany,\n",
    "    RandomResizedCrop,\n",
    "    PolarityInversion,\n",
    "    Noise,\n",
    "    Gain,\n",
    "    HighLowPass,\n",
    "    Delay,\n",
    "    PitchShift,\n",
    "    Reverb,\n",
    ")\n",
    "\n",
    "# audio_fp = \"test.wav\"\n",
    "# audio, sr = torchaudio.load(audio_fp)\n",
    "\n",
    "# transformation = HighLowPass(sr)\n",
    "# transformed_audio = transformation(audio)"
   ]
  },
  {
   "cell_type": "markdown",
   "metadata": {},
   "source": [
    "Now, let's apply a series of transformations, each applied with an independent probability:"
   ]
  },
  {
   "cell_type": "code",
   "execution_count": 10,
   "metadata": {},
   "outputs": [],
   "source": [
    "# train_transform = [\n",
    "#     RandomResizedCrop(n_samples=args.audio_length),\n",
    "#     RandomApply([PolarityInversion()], p=args.transforms_polarity),\n",
    "#     RandomApply([Noise()], p=args.transforms_noise),\n",
    "#     RandomApply([Gain()], p=args.transforms_gain),\n",
    "#     RandomApply([HighLowPass(sample_rate=args.sample_rate)], p=args.transforms_filters),\n",
    "#     RandomApply([Delay(sample_rate=args.sample_rate)], p=args.transforms_delay),\n",
    "#     RandomApply([PitchShift(n_samples=args.audio_length, sample_rate=args.sample_rate)], p=args.transforms_pitch),\n",
    "#     RandomApply([Reverb(sample_rate=args.sample_rate)], p=args.transforms_reverb),\n",
    "# ]\n",
    "# num_augmented_samples = 2"
   ]
  },
  {
   "cell_type": "markdown",
   "metadata": {},
   "source": [
    "### CLMR implementation"
   ]
  },
  {
   "cell_type": "code",
   "execution_count": 11,
   "metadata": {},
   "outputs": [],
   "source": [
    "import torch.nn as nn\n",
    "class CLMR(nn.Module):\n",
    "    pass\n",
    "\n",
    "class SampleCNN(nn.Module):\n",
    "    pass"
   ]
  },
  {
   "cell_type": "markdown",
   "metadata": {},
   "source": [
    "### Training"
   ]
  },
  {
   "cell_type": "code",
   "execution_count": 12,
   "metadata": {},
   "outputs": [],
   "source": [
    "# pl.LightningModule"
   ]
  },
  {
   "cell_type": "markdown",
   "metadata": {},
   "source": [
    "## Logistic Regression"
   ]
  },
  {
   "cell_type": "code",
   "execution_count": 13,
   "metadata": {},
   "outputs": [],
   "source": [
    "import torch.nn as nn\n",
    "class LogisticRegression(nn.Module):\n",
    "    pass"
   ]
  },
  {
   "cell_type": "markdown",
   "metadata": {},
   "source": [
    "## Baseline"
   ]
  },
  {
   "cell_type": "markdown",
   "metadata": {},
   "source": [
    "- Compare self-supervised results with supervised results"
   ]
  },
  {
   "cell_type": "markdown",
   "metadata": {},
   "source": [
    "## Conclusion"
   ]
  }
 ],
 "metadata": {
  "interpreter": {
   "hash": "aee8b7b246df8f9039afb4144a1f6fd8d2ca17a180786b69acc140d282b71a49"
  },
  "kernelspec": {
   "display_name": "tutorial",
   "language": "python",
   "name": "tutorial"
  },
  "language_info": {
   "codemirror_mode": {
    "name": "ipython",
    "version": 3
   },
   "file_extension": ".py",
   "mimetype": "text/x-python",
   "name": "python",
   "nbconvert_exporter": "python",
   "pygments_lexer": "ipython3",
   "version": "3.8.11"
  }
 },
 "nbformat": 4,
 "nbformat_minor": 4
}
