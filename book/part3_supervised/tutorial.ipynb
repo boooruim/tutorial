{
 "cells": [
  {
   "cell_type": "markdown",
   "source": [
    "# PyTorch tutorial\n",
    "### Data collection\n",
    "In this PyTorch tutorial, we use GTZAN dataset which consists of 10 exclusive genre classes. Please run the following script in your local path."
   ],
   "metadata": {}
  },
  {
   "cell_type": "code",
   "execution_count": null,
   "source": [
    "!wget http://opihi.cs.uvic.ca/sound/genres.tar.gz\n",
    "!tar -zxvf genres.tar.gz\n",
    "!wget https://raw.githubusercontent.com/coreyker/dnn-mgr/master/gtzan/train_filtered.txt\n",
    "!wget https://raw.githubusercontent.com/coreyker/dnn-mgr/master/gtzan/valid_filtered.txt\n",
    "!wget https://raw.githubusercontent.com/coreyker/dnn-mgr/master/gtzan/test_filtered.txt"
   ],
   "outputs": [],
   "metadata": {}
  },
  {
   "cell_type": "markdown",
   "source": [
    "### Data loader"
   ],
   "metadata": {}
  },
  {
   "cell_type": "code",
   "execution_count": 1,
   "source": [
    "import os\n",
    "import random\n",
    "import torch\n",
    "import numpy as np\n",
    "import soundfile as sf\n",
    "from torch.utils import data\n",
    "from torchaudio_augmentations import (\n",
    "    RandomResizedCrop,\n",
    "    RandomApply,\n",
    "    PolarityInversion,\n",
    "    Noise,\n",
    "    Gain,\n",
    "    HighLowPass,\n",
    "    Delay,\n",
    "    PitchShift,\n",
    "    Reverb,\n",
    "    Compose,\n",
    ")\n",
    "\n",
    "\n",
    "GTZAN_GENRES = ['blues', 'classical', 'country', 'disco', 'hiphop', 'jazz', 'metal', 'pop', 'reggae', 'rock']\n",
    "\n",
    "class GTZANDataset(data.Dataset):\n",
    "    def __init__(self, data_path, split, num_samples, num_chunks, is_augmentation):\n",
    "        self.data_path =  data_path if data_path else ''\n",
    "        self.split = split\n",
    "        self.num_samples = num_samples\n",
    "        self.num_chunks = num_chunks\n",
    "        self.is_augmentation = is_augmentation\n",
    "        self.genres = GTZAN_GENRES\n",
    "        self.__get_song_list__()\n",
    "        if is_augmentation:\n",
    "            self.__get_augmentations__()\n",
    "\n",
    "    def __get_song_list__(self):\n",
    "        list_filename = os.path.join(self.data_path, '%s_filtered.txt' % self.split)\n",
    "        with open(list_filename) as f:\n",
    "            lines = f.readlines()\n",
    "        self.song_list = [line.strip() for line in lines]\n",
    "\n",
    "    def __get_augmentations__(self):\n",
    "        transforms = [\n",
    "            RandomResizedCrop(n_samples=self.num_samples),\n",
    "            RandomApply([PolarityInversion()], p=0.8),\n",
    "            RandomApply([Noise(min_snr=0.3, max_snr=0.5)], p=0.3),\n",
    "            RandomApply([Gain()], p=0.2),\n",
    "            RandomApply([HighLowPass(sample_rate=22050)], p=0.8),\n",
    "            RandomApply([Delay(sample_rate=22050)], p=0.5),\n",
    "            RandomApply([PitchShift(n_samples=self.num_samples, sample_rate=22050)], p=0.4),\n",
    "            RandomApply([Reverb(sample_rate=22050)], p=0.3),\n",
    "        ]\n",
    "        self.augmentation = Compose(transforms=transforms)\n",
    "\n",
    "    def __getitem__(self, index):\n",
    "        line = self.song_list[index]\n",
    "\n",
    "        # get genre\n",
    "        genre_name = line.split('/')[0]\n",
    "        genre_index = self.genres.index(genre_name)\n",
    "\n",
    "        # get audio\n",
    "        audio_filename = os.path.join(self.data_path, 'genres', line)\n",
    "        wav, fs = sf.read(audio_filename)\n",
    "\n",
    "        # adjust audio length\n",
    "        wav = self.adjust_audio_length(wav).astype('float32')\n",
    "\n",
    "        # data augmentation\n",
    "        if self.is_augmentation:\n",
    "            wav = self.augmentation(torch.from_numpy(wav).unsqueeze(0)).squeeze(0).numpy()\n",
    "\n",
    "        return wav, genre_index\n",
    "\n",
    "    def __len__(self):\n",
    "        return len(self.song_list)\n",
    "\n",
    "    def adjust_audio_length(self, wav):\n",
    "        if self.split == 'train':\n",
    "            random_index = random.randint(0, len(wav) - self.num_samples - 1)\n",
    "            wav = wav[random_index : random_index + self.num_samples]\n",
    "        else:\n",
    "            hop = (len(wav) - self.num_samples) // self.num_chunks\n",
    "            wav = np.array([wav[i * hop : i * hop + self.num_samples] for i in range(self.num_chunks)])\n",
    "        return wav\n",
    "\n",
    "def get_dataloader(data_path=None, split='train', num_samples=110250, num_chunks=8, batch_size=16, num_workers=0, is_augmentation=False):\n",
    "    is_shuffle = True if (split == 'train') else False\n",
    "    batch_size = batch_size if (split == 'train') else (batch_size // num_chunks)\n",
    "    data_loader = data.DataLoader(dataset=GTZANDataset(data_path, split, num_samples, num_chunks, is_augmentation),\n",
    "                                  batch_size=batch_size,\n",
    "                                  shuffle=is_shuffle,\n",
    "                                  drop_last=False,\n",
    "                                  num_workers=num_workers)\n",
    "    return data_loader\n"
   ],
   "outputs": [],
   "metadata": {}
  },
  {
   "cell_type": "markdown",
   "source": [
    "Let's check returned data shapes."
   ],
   "metadata": {}
  },
  {
   "cell_type": "code",
   "execution_count": 2,
   "source": [
    "train_loader = get_dataloader(is_augmentation=True)\n",
    "iter_train_loader = iter(train_loader)\n",
    "train_wav, train_genre = next(iter_train_loader)\n",
    "\n",
    "test_loader = get_dataloader(split='test')\n",
    "iter_test_loader = iter(test_loader)\n",
    "test_wav, test_genre = next(iter_test_loader)\n",
    "print('training data shape: %s' % str(train_wav.shape))\n",
    "print('validation/test data shape: %s' % str(test_wav.shape))\n",
    "print(train_genre)"
   ],
   "outputs": [
    {
     "output_type": "stream",
     "name": "stdout",
     "text": [
      "training data shape: torch.Size([16, 110250])\n",
      "validation/test data shape: torch.Size([2, 8, 110250])\n",
      "tensor([4, 0, 0, 6, 3, 4, 9, 1, 1, 5, 8, 9, 5, 1, 9, 0])\n"
     ]
    }
   ],
   "metadata": {}
  },
  {
   "cell_type": "markdown",
   "source": [
    "```{note}\n",
    "- A data loader returns a tensor of audio and their genre indice at each iteration. \n",
    "- Random chunks of audio are cropped from the entire sequence during the training. But in validation / test phase, an entire sequence is split into multiple chunks and the chunks are stacked. The stacked chunks are later input to a trained model and the output predictions are aggregated to make song-level predictions.\n",
    "```"
   ],
   "metadata": {}
  },
  {
   "cell_type": "markdown",
   "source": [
    "### Model\n",
    "We are going to build a simple 2D CNN model with Mel spectrogram inputs. First, we design a convolution module that consists of 3x3 convolution, batch normalization, ReLU non-linearity, and 2x2 max pooling. This module is going to be used for each layer of the 2D CNN."
   ],
   "metadata": {}
  },
  {
   "cell_type": "code",
   "execution_count": 3,
   "source": [
    "from torch import nn\n",
    "\n",
    "class Conv_2d(nn.Module):\n",
    "    def __init__(self, input_channels, output_channels, shape=3, pooling=2):\n",
    "        super(Conv_2d, self).__init__()\n",
    "        self.conv = nn.Conv2d(input_channels, output_channels, shape, padding=shape//2)\n",
    "        self.bn = nn.BatchNorm2d(output_channels)\n",
    "        self.relu = nn.ReLU()\n",
    "        self.maxpool = nn.MaxPool2d(pooling)\n",
    "    def forward(self, wav):\n",
    "        out = self.conv(wav)\n",
    "        out = self.bn(out)\n",
    "        out = self.relu(out)\n",
    "        out = self.maxpool(out)\n",
    "        return out"
   ],
   "outputs": [],
   "metadata": {}
  },
  {
   "cell_type": "markdown",
   "source": [
    "Stack the convolution layers. In a PyTorch module, layers are declared in `__init__` and they are built up in `forward` function."
   ],
   "metadata": {}
  },
  {
   "cell_type": "code",
   "execution_count": 4,
   "source": [
    "import torchaudio\n",
    "\n",
    "class CNN(nn.Module):\n",
    "    def __init__(self, num_channels=32, sample_rate=22050, n_fft=1024, f_min=0.0, f_max=11025.0, num_mels=128, num_classes=10):\n",
    "        super(CNN, self).__init__()\n",
    "\n",
    "        # mel spectrogram\n",
    "        self.melspec = torchaudio.transforms.MelSpectrogram(sample_rate=sample_rate, n_fft=n_fft, f_min=f_min, f_max=f_max, n_mels=num_mels)\n",
    "        self.amplitude_to_db = torchaudio.transforms.AmplitudeToDB()\n",
    "        self.input_bn = nn.BatchNorm2d(1)\n",
    "\n",
    "        # convolutional layers\n",
    "        self.layer1 = Conv_2d(1, num_channels)\n",
    "        self.layer2 = Conv_2d(num_channels, num_channels)\n",
    "        self.layer3 = Conv_2d(num_channels, num_channels*2)\n",
    "        self.layer4 = Conv_2d(num_channels*2, num_channels*2)\n",
    "        self.layer5 = Conv_2d(num_channels*2, num_channels*2)\n",
    "        self.layer6 = Conv_2d(num_channels*2, num_channels*2)\n",
    "        self.layer7 = Conv_2d(num_channels*2, num_channels*4)\n",
    "\n",
    "        # dense layers\n",
    "        self.dense1 = nn.Linear(num_channels*4, num_channels*4)\n",
    "        self.dense_bn = nn.BatchNorm1d(num_channels*4)\n",
    "        self.dense2 = nn.Linear(num_channels*4, num_classes)\n",
    "        self.dropout = nn.Dropout(0.5)\n",
    "        self.relu = nn.ReLU()\n",
    "\n",
    "    def forward(self, wav):\n",
    "        # input Preprocessing\n",
    "        out = self.melspec(wav)\n",
    "        out = self.amplitude_to_db(out)\n",
    "\n",
    "        # input batch normalization\n",
    "        out = out.unsqueeze(1)\n",
    "        out = self.input_bn(out)\n",
    "\n",
    "        # convolutional layers\n",
    "        out = self.layer1(out)\n",
    "        out = self.layer2(out)\n",
    "        out = self.layer3(out)\n",
    "        out = self.layer4(out)\n",
    "        out = self.layer5(out)\n",
    "        out = self.layer6(out)\n",
    "        out = self.layer7(out)\n",
    "\n",
    "        # dense layers\n",
    "        out = out.squeeze(2)\n",
    "        out = out.squeeze(2)\n",
    "        out = self.dense1(out)\n",
    "        out = self.dense_bn(out)\n",
    "        out = self.relu(out)\n",
    "        out = self.dropout(out)\n",
    "        out = self.dense2(out)\n",
    "\n",
    "        return out\n"
   ],
   "outputs": [],
   "metadata": {}
  },
  {
   "cell_type": "markdown",
   "source": [
    "```{note}\n",
    "In this example, we performed preprocessing on-the-fly using torchaudio. This process can be done offline outside of the network using other libraries such as [librosa](https://librosa.org/doc/latest/index.html) and [essentia](https://essentia.upf.edu/).\n",
    "```\n",
    "```{tip}\n",
    "- There is no activation function at the last layer since `nn.CrossEntropyLoss` already includes softmax in it.\n",
    "- If you want to perform multi-label binary classification, include `out = nn.Sigmoid()(out)` at the last layer and use `nn.BCELoss()`.\n",
    "```"
   ],
   "metadata": {}
  },
  {
   "cell_type": "markdown",
   "source": [
    "### Training\n",
    "Iterate training. One epoch is defined as visiting all training items once. This definition can be modified in `def __len__` in data loader."
   ],
   "metadata": {}
  },
  {
   "cell_type": "code",
   "execution_count": 9,
   "source": [
    "device = torch.device('cuda:0' if torch.cuda.is_available() else 'cpu')\n",
    "cnn = CNN().to(device)\n",
    "loss_function = nn.CrossEntropyLoss()\n",
    "optimizer = torch.optim.Adam(cnn.parameters(), lr=0.001)\n",
    "num_epochs = 20\n",
    "\n",
    "for epoch in range(num_epochs):\n",
    "    losses = []\n",
    "    for (wav, genre_index) in train_loader:\n",
    "        wav = wav.to(device)\n",
    "        genre_index = genre_index.to(device)\n",
    "\n",
    "        # Forward\n",
    "        out = cnn(wav)\n",
    "        loss = loss_function(out, genre_index)\n",
    "\n",
    "        # Backward\n",
    "        optimizer.zero_grad()\n",
    "        loss.backward()\n",
    "        optimizer.step()\n",
    "        losses.append(loss.item())\n",
    "\n",
    "    print('Epoch: [%d/%d], Train loss: %.4f' % (epoch+1, num_epochs, np.mean(losses)))\n",
    "\n",
    "        "
   ],
   "outputs": [
    {
     "output_type": "stream",
     "name": "stdout",
     "text": [
      "Epoch: [1/20], Train loss: 2.3318\n",
      "Epoch: [2/20], Train loss: 2.1441\n",
      "Epoch: [3/20], Train loss: 2.0764\n",
      "Epoch: [4/20], Train loss: 2.0426\n",
      "Epoch: [5/20], Train loss: 2.0145\n",
      "Epoch: [6/20], Train loss: 1.9060\n",
      "Epoch: [7/20], Train loss: 1.8982\n",
      "Epoch: [8/20], Train loss: 1.9004\n",
      "Epoch: [9/20], Train loss: 1.8833\n",
      "Epoch: [10/20], Train loss: 1.8247\n",
      "Epoch: [11/20], Train loss: 1.7065\n",
      "Epoch: [12/20], Train loss: 1.7838\n",
      "Epoch: [13/20], Train loss: 1.8379\n",
      "Epoch: [14/20], Train loss: 1.7556\n",
      "Epoch: [15/20], Train loss: 1.7157\n",
      "Epoch: [16/20], Train loss: 1.6708\n",
      "Epoch: [17/20], Train loss: 1.6555\n",
      "Epoch: [18/20], Train loss: 1.6130\n",
      "Epoch: [19/20], Train loss: 1.6131\n",
      "Epoch: [20/20], Train loss: 1.6785\n"
     ]
    }
   ],
   "metadata": {}
  },
  {
   "cell_type": "markdown",
   "source": [
    "### Evaluation\n",
    "Collect the trained model's predictions for the test set. Chunk-level predictions are aggregated to make song-level predictions."
   ],
   "metadata": {}
  },
  {
   "cell_type": "code",
   "execution_count": 10,
   "source": [
    "cnn.eval()\n",
    "y_true = []\n",
    "y_pred = []\n",
    "with torch.no_grad():\n",
    "    for wav, genre_index in test_loader:\n",
    "        wav = wav.to(device)\n",
    "        genre_index = genre_index.to(device)\n",
    "\n",
    "        # reshape and aggregate chunk-level predictions\n",
    "        b, c, t = wav.size()\n",
    "        logits = cnn(wav.view(-1, t))\n",
    "        logits = logits.view(b, c, -1).mean(dim=1)\n",
    "        _, pred = torch.max(logits.data, 1)\n",
    "\n",
    "        # append labels and predictions\n",
    "        y_true.extend(genre_index.tolist())\n",
    "        y_pred.extend(pred.tolist())"
   ],
   "outputs": [],
   "metadata": {}
  },
  {
   "cell_type": "markdown",
   "source": [
    "Save your model."
   ],
   "metadata": {}
  },
  {
   "cell_type": "code",
   "execution_count": 11,
   "source": [
    "torch.save(cnn.state_dict(), 'gtzan_cnn.ckpt')"
   ],
   "outputs": [],
   "metadata": {}
  },
  {
   "cell_type": "markdown",
   "source": [
    "Finally, we can assess the performance and visualize a confusion matrix for better understanding."
   ],
   "metadata": {}
  },
  {
   "cell_type": "code",
   "execution_count": 12,
   "source": [
    "import seaborn as sns\n",
    "from sklearn.metrics import accuracy_score, confusion_matrix\n",
    "accuracy = accuracy_score(y_true, y_pred)\n",
    "cm = confusion_matrix(y_true, y_pred)\n",
    "sns.heatmap(cm, annot=True, xticklabels=GTZAN_GENRES, yticklabels=GTZAN_GENRES, cmap='YlGnBu')\n",
    "print('Accuracy: %.4f' % accuracy)"
   ],
   "outputs": [
    {
     "output_type": "stream",
     "name": "stdout",
     "text": [
      "Accuracy: 0.5310\n"
     ]
    },
    {
     "output_type": "display_data",
     "data": {
      "image/png": "[encoded data removed]",
      "text/plain": [
       "<Figure size 432x288 with 2 Axes>"
      ]
     },
     "metadata": {
      "needs_background": "light"
     }
    }
   ],
   "metadata": {}
  },
  {
   "cell_type": "markdown",
   "source": [
    "```{tip}\n",
    "In this tutorial, we did not use any high-level library for more understandable implementation. We highly recommend checking the following libraries for simplified implementation:\n",
    "- [PyTorch Lightning](https://www.pytorchlightning.ai/)\n",
    "- [Ignite](https://pytorch.org/ignite/)\n",
    "- [Hydra](https://hydra.cc/docs/intro/)\n",
    "```"
   ],
   "metadata": {}
  }
 ],
 "metadata": {
  "celltoolbar": "Tags",
  "kernelspec": {
   "name": "python3",
   "display_name": "Python 3.7.11 64-bit ('tutorial': conda)"
  },
  "language_info": {
   "codemirror_mode": {
    "name": "ipython",
    "version": 3
   },
   "file_extension": ".py",
   "mimetype": "text/x-python",
   "name": "python",
   "nbconvert_exporter": "python",
   "pygments_lexer": "ipython3",
   "version": "3.7.11"
  },
  "interpreter": {
   "hash": "d07f8a6d01a647f8c201632839541ae5d3157a119d69afa1c4342c330b00f4fd"
  }
 },
 "nbformat": 4,
 "nbformat_minor": 4
}